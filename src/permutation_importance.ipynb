{
 "cells": [
  {
   "cell_type": "code",
   "execution_count": null,
   "id": "initial_id",
   "metadata": {
    "collapsed": true
   },
   "outputs": [],
   "source": [
    "\"\"\"\n",
    "Objectives:\n",
    "- What features in the data are the most important\n",
    "- For any prediction from a model, how did each feature in the data affect that particular prediction\n",
    "- How does feature affect a model's predictions\n",
    "\"\"\""
   ]
  },
  {
   "metadata": {},
   "cell_type": "code",
   "outputs": [],
   "execution_count": null,
   "source": [
    "\"\"\"\n",
    "Permutation Importance\n",
    "- Calculated after a model has been fitted\n",
    "- If I randomly shuffle a single column  of the validation data, how would that affect the accuracy of predictions in that now-shuffled data?\n",
    "- Should cause less accurate predictions\n",
    "\n",
    "Process:\n",
    "- Get trained model\n",
    "- Shuffle values in a single columns\n",
    "- Make predictions and look at loss function\n",
    "- Performance deterioration measures the performance of the feature\n",
    "\n",
    "\"\"\""
   ],
   "id": "72ae638c898c7ac7"
  },
  {
   "metadata": {
    "ExecuteTime": {
     "end_time": "2024-11-11T04:47:01.142592Z",
     "start_time": "2024-11-11T04:46:14.382834Z"
    }
   },
   "cell_type": "code",
   "source": [
    "import numpy as np\n",
    "import pandas as pd\n",
    "from sklearn.model_selection import train_test_split\n",
    "from sklearn.ensemble import RandomForestClassifier\n",
    "\n",
    "data = pd.read_csv('data/FIFA 2018 Statistics.csv')\n",
    "y = (data['Man of the Match'] == \"Yes\")\n",
    "features_names = [i for i in data.columns if data[i].dtype in [np.int64]]\n",
    "X = data[features_names]\n",
    "X_train, X_val, y_train, y_val = train_test_split(X, y, random_state=0)\n",
    "model = RandomForestClassifier(n_estimators=100, random_state=0).fit(X_train, y_train)"
   ],
   "id": "5a148d72e5d29f46",
   "outputs": [],
   "execution_count": 1
  },
  {
   "metadata": {
    "ExecuteTime": {
     "end_time": "2024-11-11T04:56:18.289004Z",
     "start_time": "2024-11-11T04:56:16.693536Z"
    }
   },
   "cell_type": "code",
   "source": [
    "from sklearn.inspection import permutation_importance\n",
    "\n",
    "perm_importance = permutation_importance(model, X_val, y_val, n_repeats=30, random_state=1)\n"
   ],
   "id": "9ad493ec8655f8ab",
   "outputs": [],
   "execution_count": 9
  },
  {
   "metadata": {
    "ExecuteTime": {
     "end_time": "2024-11-11T04:56:32.029759Z",
     "start_time": "2024-11-11T04:56:32.004890Z"
    }
   },
   "cell_type": "code",
   "source": [
    "import pandas as pd\n",
    "\n",
    "importance_df = pd.DataFrame({\n",
    "    'feature': X_val.columns,\n",
    "    'importance': perm_importance.importances_mean\n",
    "}).sort_values(by='importance', ascending=False)\n",
    "\n",
    "print(importance_df)\n"
   ],
   "id": "2b06a856cede2568",
   "outputs": [
    {
     "name": "stdout",
     "output_type": "stream",
     "text": [
      "                   feature  importance\n",
      "0              Goal Scored    0.083333\n",
      "7                 Offsides    0.042708\n",
      "6                  Corners    0.040625\n",
      "5                  Blocked    0.028125\n",
      "14             Yellow Card    0.027083\n",
      "10         Pass Accuracy %    0.018750\n",
      "2                 Attempts    0.018750\n",
      "4               Off-Target    0.007292\n",
      "8               Free Kicks    0.004167\n",
      "13         Fouls Committed    0.002083\n",
      "17            Goals in PSO    0.002083\n",
      "3                On-Target    0.002083\n",
      "12  Distance Covered (Kms)    0.000000\n",
      "15            Yellow & Red    0.000000\n",
      "16                     Red    0.000000\n",
      "9                    Saves   -0.001042\n",
      "1        Ball Possession %   -0.008333\n",
      "11                  Passes   -0.017708\n"
     ]
    }
   ],
   "execution_count": 10
  }
 ],
 "metadata": {
  "kernelspec": {
   "display_name": "Python 3",
   "language": "python",
   "name": "python3"
  },
  "language_info": {
   "codemirror_mode": {
    "name": "ipython",
    "version": 2
   },
   "file_extension": ".py",
   "mimetype": "text/x-python",
   "name": "python",
   "nbconvert_exporter": "python",
   "pygments_lexer": "ipython2",
   "version": "2.7.6"
  }
 },
 "nbformat": 4,
 "nbformat_minor": 5
}
